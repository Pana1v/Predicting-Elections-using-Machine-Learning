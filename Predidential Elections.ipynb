{
 "cells": [
  {
   "cell_type": "markdown",
   "metadata": {},
   "source": [
    "# Presidential Election Trends\n",
    "\n",
    "In this project, we shall analyze,visualize and compare presidential candidates using inbuilt python Libraries such as Seahorse, Numpy and Pandas.\n",
    "\n",
    "For this we shall need to install these Libraries and import a dataset from Kaggle.\n"
   ]
  },
  {
   "cell_type": "markdown",
   "metadata": {},
   "source": [
    "## Downloading the Dataset\n",
    "We shall first download the data_set from Kaggle, This would require an API and the user name.\n",
    "The User name and API can be generated using the accounts section after registering to Kaggle.\n"
   ]
  },
  {
   "cell_type": "code",
   "execution_count": 3,
   "metadata": {},
   "outputs": [],
   "source": [
    "!pip install jovian opendatasets --upgrade --quiet"
   ]
  },
  {
   "cell_type": "markdown",
   "metadata": {},
   "source": [
    "Let's begin by downloading the data, and listing the files within the dataset.\n",
    "\n",
    "In this section you shall insert your username and API key that you have generated earlier, import the Pandas Library and set the url to download the dataset to be worked upon."
   ]
  },
  {
   "cell_type": "code",
   "execution_count": 4,
   "metadata": {},
   "outputs": [],
   "source": [
    "dataset_url = 'https://www.kaggle.com/tunguz/us-elections-dataset'\n",
    "import pandas as pd"
   ]
  },
  {
   "cell_type": "code",
   "execution_count": 5,
   "metadata": {},
   "outputs": [
    {
     "name": "stdout",
     "output_type": "stream",
     "text": [
      "Skipping, found downloaded files in \"./us-elections-dataset\" (use force=True to force download)\n"
     ]
    }
   ],
   "source": [
    "import opendatasets as od\n",
    "od.download(dataset_url)"
   ]
  },
  {
   "cell_type": "markdown",
   "metadata": {},
   "source": [
    "The dataset has been downloaded and extracted.\n",
    "Now we shall check the contents of the current working directory."
   ]
  },
  {
   "cell_type": "code",
   "execution_count": 6,
   "metadata": {},
   "outputs": [],
   "source": [
    "data_dir = './us-elections-dataset'"
   ]
  },
  {
   "cell_type": "code",
   "execution_count": 7,
   "metadata": {},
   "outputs": [
    {
     "name": "stdout",
     "output_type": "stream",
     "text": [
      "['1976-2020-president.csv', '1976-2020-senate.csv']\n"
     ]
    }
   ],
   "source": [
    "import os\n",
    "print(os.listdir(data_dir))"
   ]
  },
  {
   "cell_type": "markdown",
   "metadata": {},
   "source": [
    "After importing the os Library from python, we shall set the project name, install and import the jovian Library"
   ]
  },
  {
   "cell_type": "code",
   "execution_count": 8,
   "metadata": {},
   "outputs": [],
   "source": [
    "project_name = \"zerotopandas-course-project-starter\""
   ]
  },
  {
   "cell_type": "code",
   "execution_count": 9,
   "metadata": {},
   "outputs": [],
   "source": [
    "!pip install jovian --upgrade -q"
   ]
  },
  {
   "cell_type": "code",
   "execution_count": 10,
   "metadata": {},
   "outputs": [],
   "source": [
    "import jovian"
   ]
  },
  {
   "cell_type": "code",
   "execution_count": 11,
   "metadata": {},
   "outputs": [
    {
     "data": {
      "application/javascript": [
       "window.require && require([\"base/js/namespace\"],function(Jupyter){Jupyter.notebook.save_checkpoint()})"
      ],
      "text/plain": [
       "<IPython.core.display.Javascript object>"
      ]
     },
     "metadata": {},
     "output_type": "display_data"
    },
    {
     "name": "stdout",
     "output_type": "stream",
     "text": [
      "[jovian] Updating notebook \"pana1v/zerotopandas-course-project-starter\" on https://jovian.ai\u001b[0m\n"
     ]
    },
    {
     "name": "stderr",
     "output_type": "stream",
     "text": [
      "\u001b[31m[jovian] Error: Looks like the notebook is missing output cells, please save the notebook and try jovian.commit again.\u001b[0m\n"
     ]
    },
    {
     "name": "stdout",
     "output_type": "stream",
     "text": [
      "[jovian] Committed successfully! https://jovian.ai/pana1v/zerotopandas-course-project-starter\u001b[0m\n"
     ]
    },
    {
     "data": {
      "text/plain": [
       "'https://jovian.ai/pana1v/zerotopandas-course-project-starter'"
      ]
     },
     "execution_count": 11,
     "metadata": {},
     "output_type": "execute_result"
    }
   ],
   "source": [
    "jovian.commit(project=project_name)"
   ]
  },
  {
   "cell_type": "markdown",
   "metadata": {},
   "source": [
    "## Data Preparation and Cleaning\n",
    "\n",
    "We shall now import the data into our very own data frame.\n",
    "\n"
   ]
  },
  {
   "cell_type": "code",
   "execution_count": 12,
   "metadata": {},
   "outputs": [],
   "source": [
    "election_df = pd.read_csv('us-elections-dataset/1976-2020-president.csv')"
   ]
  },
  {
   "cell_type": "markdown",
   "metadata": {},
   "source": [
    "Now that the import is complete, we will check the contents of the dataframe using a simple statement."
   ]
  },
  {
   "cell_type": "code",
   "execution_count": 13,
   "metadata": {},
   "outputs": [
    {
     "data": {
      "text/html": [
       "<div>\n",
       "<style scoped>\n",
       "    .dataframe tbody tr th:only-of-type {\n",
       "        vertical-align: middle;\n",
       "    }\n",
       "\n",
       "    .dataframe tbody tr th {\n",
       "        vertical-align: top;\n",
       "    }\n",
       "\n",
       "    .dataframe thead th {\n",
       "        text-align: right;\n",
       "    }\n",
       "</style>\n",
       "<table border=\"1\" class=\"dataframe\">\n",
       "  <thead>\n",
       "    <tr style=\"text-align: right;\">\n",
       "      <th></th>\n",
       "      <th>year</th>\n",
       "      <th>state</th>\n",
       "      <th>state_po</th>\n",
       "      <th>state_fips</th>\n",
       "      <th>state_cen</th>\n",
       "      <th>state_ic</th>\n",
       "      <th>office</th>\n",
       "      <th>candidate</th>\n",
       "      <th>party_detailed</th>\n",
       "      <th>writein</th>\n",
       "      <th>candidatevotes</th>\n",
       "      <th>totalvotes</th>\n",
       "      <th>version</th>\n",
       "      <th>notes</th>\n",
       "      <th>party_simplified</th>\n",
       "    </tr>\n",
       "  </thead>\n",
       "  <tbody>\n",
       "    <tr>\n",
       "      <th>0</th>\n",
       "      <td>1976</td>\n",
       "      <td>ALABAMA</td>\n",
       "      <td>AL</td>\n",
       "      <td>1</td>\n",
       "      <td>63</td>\n",
       "      <td>41</td>\n",
       "      <td>US PRESIDENT</td>\n",
       "      <td>CARTER, JIMMY</td>\n",
       "      <td>DEMOCRAT</td>\n",
       "      <td>False</td>\n",
       "      <td>659170</td>\n",
       "      <td>1182850</td>\n",
       "      <td>20210113</td>\n",
       "      <td>NaN</td>\n",
       "      <td>DEMOCRAT</td>\n",
       "    </tr>\n",
       "    <tr>\n",
       "      <th>1</th>\n",
       "      <td>1976</td>\n",
       "      <td>ALABAMA</td>\n",
       "      <td>AL</td>\n",
       "      <td>1</td>\n",
       "      <td>63</td>\n",
       "      <td>41</td>\n",
       "      <td>US PRESIDENT</td>\n",
       "      <td>FORD, GERALD</td>\n",
       "      <td>REPUBLICAN</td>\n",
       "      <td>False</td>\n",
       "      <td>504070</td>\n",
       "      <td>1182850</td>\n",
       "      <td>20210113</td>\n",
       "      <td>NaN</td>\n",
       "      <td>REPUBLICAN</td>\n",
       "    </tr>\n",
       "    <tr>\n",
       "      <th>2</th>\n",
       "      <td>1976</td>\n",
       "      <td>ALABAMA</td>\n",
       "      <td>AL</td>\n",
       "      <td>1</td>\n",
       "      <td>63</td>\n",
       "      <td>41</td>\n",
       "      <td>US PRESIDENT</td>\n",
       "      <td>MADDOX, LESTER</td>\n",
       "      <td>AMERICAN INDEPENDENT PARTY</td>\n",
       "      <td>False</td>\n",
       "      <td>9198</td>\n",
       "      <td>1182850</td>\n",
       "      <td>20210113</td>\n",
       "      <td>NaN</td>\n",
       "      <td>OTHER</td>\n",
       "    </tr>\n",
       "    <tr>\n",
       "      <th>3</th>\n",
       "      <td>1976</td>\n",
       "      <td>ALABAMA</td>\n",
       "      <td>AL</td>\n",
       "      <td>1</td>\n",
       "      <td>63</td>\n",
       "      <td>41</td>\n",
       "      <td>US PRESIDENT</td>\n",
       "      <td>BUBAR, BENJAMIN \"\"BEN\"\"</td>\n",
       "      <td>PROHIBITION</td>\n",
       "      <td>False</td>\n",
       "      <td>6669</td>\n",
       "      <td>1182850</td>\n",
       "      <td>20210113</td>\n",
       "      <td>NaN</td>\n",
       "      <td>OTHER</td>\n",
       "    </tr>\n",
       "    <tr>\n",
       "      <th>4</th>\n",
       "      <td>1976</td>\n",
       "      <td>ALABAMA</td>\n",
       "      <td>AL</td>\n",
       "      <td>1</td>\n",
       "      <td>63</td>\n",
       "      <td>41</td>\n",
       "      <td>US PRESIDENT</td>\n",
       "      <td>HALL, GUS</td>\n",
       "      <td>COMMUNIST PARTY USE</td>\n",
       "      <td>False</td>\n",
       "      <td>1954</td>\n",
       "      <td>1182850</td>\n",
       "      <td>20210113</td>\n",
       "      <td>NaN</td>\n",
       "      <td>OTHER</td>\n",
       "    </tr>\n",
       "    <tr>\n",
       "      <th>...</th>\n",
       "      <td>...</td>\n",
       "      <td>...</td>\n",
       "      <td>...</td>\n",
       "      <td>...</td>\n",
       "      <td>...</td>\n",
       "      <td>...</td>\n",
       "      <td>...</td>\n",
       "      <td>...</td>\n",
       "      <td>...</td>\n",
       "      <td>...</td>\n",
       "      <td>...</td>\n",
       "      <td>...</td>\n",
       "      <td>...</td>\n",
       "      <td>...</td>\n",
       "      <td>...</td>\n",
       "    </tr>\n",
       "    <tr>\n",
       "      <th>4282</th>\n",
       "      <td>2020</td>\n",
       "      <td>WYOMING</td>\n",
       "      <td>WY</td>\n",
       "      <td>56</td>\n",
       "      <td>83</td>\n",
       "      <td>68</td>\n",
       "      <td>US PRESIDENT</td>\n",
       "      <td>JORGENSEN, JO</td>\n",
       "      <td>LIBERTARIAN</td>\n",
       "      <td>False</td>\n",
       "      <td>5768</td>\n",
       "      <td>278503</td>\n",
       "      <td>20210113</td>\n",
       "      <td>NaN</td>\n",
       "      <td>LIBERTARIAN</td>\n",
       "    </tr>\n",
       "    <tr>\n",
       "      <th>4283</th>\n",
       "      <td>2020</td>\n",
       "      <td>WYOMING</td>\n",
       "      <td>WY</td>\n",
       "      <td>56</td>\n",
       "      <td>83</td>\n",
       "      <td>68</td>\n",
       "      <td>US PRESIDENT</td>\n",
       "      <td>PIERCE, BROCK</td>\n",
       "      <td>INDEPENDENT</td>\n",
       "      <td>False</td>\n",
       "      <td>2208</td>\n",
       "      <td>278503</td>\n",
       "      <td>20210113</td>\n",
       "      <td>NaN</td>\n",
       "      <td>OTHER</td>\n",
       "    </tr>\n",
       "    <tr>\n",
       "      <th>4284</th>\n",
       "      <td>2020</td>\n",
       "      <td>WYOMING</td>\n",
       "      <td>WY</td>\n",
       "      <td>56</td>\n",
       "      <td>83</td>\n",
       "      <td>68</td>\n",
       "      <td>US PRESIDENT</td>\n",
       "      <td>NaN</td>\n",
       "      <td>NaN</td>\n",
       "      <td>True</td>\n",
       "      <td>1739</td>\n",
       "      <td>278503</td>\n",
       "      <td>20210113</td>\n",
       "      <td>NaN</td>\n",
       "      <td>OTHER</td>\n",
       "    </tr>\n",
       "    <tr>\n",
       "      <th>4285</th>\n",
       "      <td>2020</td>\n",
       "      <td>WYOMING</td>\n",
       "      <td>WY</td>\n",
       "      <td>56</td>\n",
       "      <td>83</td>\n",
       "      <td>68</td>\n",
       "      <td>US PRESIDENT</td>\n",
       "      <td>OVERVOTES</td>\n",
       "      <td>NaN</td>\n",
       "      <td>False</td>\n",
       "      <td>279</td>\n",
       "      <td>278503</td>\n",
       "      <td>20210113</td>\n",
       "      <td>NaN</td>\n",
       "      <td>OTHER</td>\n",
       "    </tr>\n",
       "    <tr>\n",
       "      <th>4286</th>\n",
       "      <td>2020</td>\n",
       "      <td>WYOMING</td>\n",
       "      <td>WY</td>\n",
       "      <td>56</td>\n",
       "      <td>83</td>\n",
       "      <td>68</td>\n",
       "      <td>US PRESIDENT</td>\n",
       "      <td>UNDERVOTES</td>\n",
       "      <td>NaN</td>\n",
       "      <td>False</td>\n",
       "      <td>1459</td>\n",
       "      <td>278503</td>\n",
       "      <td>20210113</td>\n",
       "      <td>NaN</td>\n",
       "      <td>OTHER</td>\n",
       "    </tr>\n",
       "  </tbody>\n",
       "</table>\n",
       "<p>4287 rows × 15 columns</p>\n",
       "</div>"
      ],
      "text/plain": [
       "      year    state state_po  state_fips  state_cen  state_ic        office  \\\n",
       "0     1976  ALABAMA       AL           1         63        41  US PRESIDENT   \n",
       "1     1976  ALABAMA       AL           1         63        41  US PRESIDENT   \n",
       "2     1976  ALABAMA       AL           1         63        41  US PRESIDENT   \n",
       "3     1976  ALABAMA       AL           1         63        41  US PRESIDENT   \n",
       "4     1976  ALABAMA       AL           1         63        41  US PRESIDENT   \n",
       "...    ...      ...      ...         ...        ...       ...           ...   \n",
       "4282  2020  WYOMING       WY          56         83        68  US PRESIDENT   \n",
       "4283  2020  WYOMING       WY          56         83        68  US PRESIDENT   \n",
       "4284  2020  WYOMING       WY          56         83        68  US PRESIDENT   \n",
       "4285  2020  WYOMING       WY          56         83        68  US PRESIDENT   \n",
       "4286  2020  WYOMING       WY          56         83        68  US PRESIDENT   \n",
       "\n",
       "                    candidate              party_detailed writein  \\\n",
       "0               CARTER, JIMMY                    DEMOCRAT   False   \n",
       "1                FORD, GERALD                  REPUBLICAN   False   \n",
       "2              MADDOX, LESTER  AMERICAN INDEPENDENT PARTY   False   \n",
       "3     BUBAR, BENJAMIN \"\"BEN\"\"                 PROHIBITION   False   \n",
       "4                   HALL, GUS         COMMUNIST PARTY USE   False   \n",
       "...                       ...                         ...     ...   \n",
       "4282            JORGENSEN, JO                 LIBERTARIAN   False   \n",
       "4283            PIERCE, BROCK                 INDEPENDENT   False   \n",
       "4284                      NaN                         NaN    True   \n",
       "4285                OVERVOTES                         NaN   False   \n",
       "4286               UNDERVOTES                         NaN   False   \n",
       "\n",
       "      candidatevotes  totalvotes   version  notes party_simplified  \n",
       "0             659170     1182850  20210113    NaN         DEMOCRAT  \n",
       "1             504070     1182850  20210113    NaN       REPUBLICAN  \n",
       "2               9198     1182850  20210113    NaN            OTHER  \n",
       "3               6669     1182850  20210113    NaN            OTHER  \n",
       "4               1954     1182850  20210113    NaN            OTHER  \n",
       "...              ...         ...       ...    ...              ...  \n",
       "4282            5768      278503  20210113    NaN      LIBERTARIAN  \n",
       "4283            2208      278503  20210113    NaN            OTHER  \n",
       "4284            1739      278503  20210113    NaN            OTHER  \n",
       "4285             279      278503  20210113    NaN            OTHER  \n",
       "4286            1459      278503  20210113    NaN            OTHER  \n",
       "\n",
       "[4287 rows x 15 columns]"
      ]
     },
     "execution_count": 13,
     "metadata": {},
     "output_type": "execute_result"
    }
   ],
   "source": [
    "election_df"
   ]
  },
  {
   "cell_type": "markdown",
   "metadata": {},
   "source": [
    "* Checking the data type of the data-frame"
   ]
  },
  {
   "cell_type": "code",
   "execution_count": 14,
   "metadata": {},
   "outputs": [
    {
     "data": {
      "text/plain": [
       "pandas.core.frame.DataFrame"
      ]
     },
     "execution_count": 14,
     "metadata": {},
     "output_type": "execute_result"
    }
   ],
   "source": [
    "type(election_df)"
   ]
  },
  {
   "cell_type": "code",
   "execution_count": 15,
   "metadata": {},
   "outputs": [
    {
     "name": "stdout",
     "output_type": "stream",
     "text": [
      "<class 'pandas.core.frame.DataFrame'>\n",
      "RangeIndex: 4287 entries, 0 to 4286\n",
      "Data columns (total 15 columns):\n",
      " #   Column            Non-Null Count  Dtype  \n",
      "---  ------            --------------  -----  \n",
      " 0   year              4287 non-null   int64  \n",
      " 1   state             4287 non-null   object \n",
      " 2   state_po          4287 non-null   object \n",
      " 3   state_fips        4287 non-null   int64  \n",
      " 4   state_cen         4287 non-null   int64  \n",
      " 5   state_ic          4287 non-null   int64  \n",
      " 6   office            4287 non-null   object \n",
      " 7   candidate         4000 non-null   object \n",
      " 8   party_detailed    3831 non-null   object \n",
      " 9   writein           4284 non-null   object \n",
      " 10  candidatevotes    4287 non-null   int64  \n",
      " 11  totalvotes        4287 non-null   int64  \n",
      " 12  version           4287 non-null   int64  \n",
      " 13  notes             0 non-null      float64\n",
      " 14  party_simplified  4287 non-null   object \n",
      "dtypes: float64(1), int64(7), object(7)\n",
      "memory usage: 502.5+ KB\n"
     ]
    }
   ],
   "source": [
    "election_df.info()"
   ]
  },
  {
   "cell_type": "code",
   "execution_count": 16,
   "metadata": {},
   "outputs": [],
   "source": [
    "import jovian"
   ]
  },
  {
   "cell_type": "code",
   "execution_count": 40,
   "metadata": {},
   "outputs": [
    {
     "data": {
      "application/javascript": [
       "window.require && require([\"base/js/namespace\"],function(Jupyter){Jupyter.notebook.save_checkpoint()})"
      ],
      "text/plain": [
       "<IPython.core.display.Javascript object>"
      ]
     },
     "metadata": {},
     "output_type": "display_data"
    },
    {
     "name": "stdout",
     "output_type": "stream",
     "text": [
      "[jovian] Updating notebook \"pana1v/zerotopandas-course-project-starter\" on https://jovian.ai\u001b[0m\n",
      "[jovian] Committed successfully! https://jovian.ai/pana1v/zerotopandas-course-project-starter\u001b[0m\n"
     ]
    },
    {
     "data": {
      "text/plain": [
       "'https://jovian.ai/pana1v/zerotopandas-course-project-starter'"
      ]
     },
     "execution_count": 40,
     "metadata": {},
     "output_type": "execute_result"
    }
   ],
   "source": [
    "jovian.commit()"
   ]
  },
  {
   "cell_type": "markdown",
   "metadata": {},
   "source": [
    "## Exploratory Analysis and Visualization\n",
    "\n",
    "The following section will see us use matpotlib visualizations extensively.\n",
    "\n",
    "We shall use histograms and graphs to analyze election trends year on year\n",
    "\n"
   ]
  },
  {
   "cell_type": "markdown",
   "metadata": {},
   "source": [
    "Let's begin by importing`matplotlib.pyplot` and `seaborn`."
   ]
  },
  {
   "cell_type": "code",
   "execution_count": 41,
   "metadata": {},
   "outputs": [],
   "source": [
    "import seaborn as sns\n",
    "import matplotlib\n",
    "import matplotlib.pyplot as plt\n",
    "%matplotlib inline\n",
    "\n",
    "sns.set_style('darkgrid')\n",
    "matplotlib.rcParams['font.size'] = 14\n",
    "matplotlib.rcParams['figure.figsize'] = (9, 5)\n",
    "matplotlib.rcParams['figure.facecolor'] = '#00000000'"
   ]
  },
  {
   "cell_type": "markdown",
   "metadata": {},
   "source": [
    "To see the year on year trends, we need to sort candidates by the chronological order. "
   ]
  },
  {
   "cell_type": "code",
   "execution_count": 42,
   "metadata": {},
   "outputs": [
    {
     "data": {
      "text/html": [
       "<div>\n",
       "<style scoped>\n",
       "    .dataframe tbody tr th:only-of-type {\n",
       "        vertical-align: middle;\n",
       "    }\n",
       "\n",
       "    .dataframe tbody tr th {\n",
       "        vertical-align: top;\n",
       "    }\n",
       "\n",
       "    .dataframe thead th {\n",
       "        text-align: right;\n",
       "    }\n",
       "</style>\n",
       "<table border=\"1\" class=\"dataframe\">\n",
       "  <thead>\n",
       "    <tr style=\"text-align: right;\">\n",
       "      <th></th>\n",
       "      <th>year</th>\n",
       "      <th>state</th>\n",
       "      <th>state_po</th>\n",
       "      <th>state_fips</th>\n",
       "      <th>state_cen</th>\n",
       "      <th>state_ic</th>\n",
       "      <th>office</th>\n",
       "      <th>candidate</th>\n",
       "      <th>party_detailed</th>\n",
       "      <th>writein</th>\n",
       "      <th>candidatevotes</th>\n",
       "      <th>totalvotes</th>\n",
       "      <th>version</th>\n",
       "      <th>notes</th>\n",
       "      <th>party_simplified</th>\n",
       "    </tr>\n",
       "  </thead>\n",
       "  <tbody>\n",
       "    <tr>\n",
       "      <th>4267</th>\n",
       "      <td>2020</td>\n",
       "      <td>WISCONSIN</td>\n",
       "      <td>WI</td>\n",
       "      <td>55</td>\n",
       "      <td>35</td>\n",
       "      <td>25</td>\n",
       "      <td>US PRESIDENT</td>\n",
       "      <td>BIDEN, JOSEPH R. JR</td>\n",
       "      <td>DEMOCRAT</td>\n",
       "      <td>False</td>\n",
       "      <td>1630866</td>\n",
       "      <td>3298041</td>\n",
       "      <td>20210113</td>\n",
       "      <td>NaN</td>\n",
       "      <td>DEMOCRAT</td>\n",
       "    </tr>\n",
       "    <tr>\n",
       "      <th>4268</th>\n",
       "      <td>2020</td>\n",
       "      <td>WISCONSIN</td>\n",
       "      <td>WI</td>\n",
       "      <td>55</td>\n",
       "      <td>35</td>\n",
       "      <td>25</td>\n",
       "      <td>US PRESIDENT</td>\n",
       "      <td>TRUMP, DONALD J.</td>\n",
       "      <td>REPUBLICAN</td>\n",
       "      <td>False</td>\n",
       "      <td>1610184</td>\n",
       "      <td>3298041</td>\n",
       "      <td>20210113</td>\n",
       "      <td>NaN</td>\n",
       "      <td>REPUBLICAN</td>\n",
       "    </tr>\n",
       "    <tr>\n",
       "      <th>4269</th>\n",
       "      <td>2020</td>\n",
       "      <td>WISCONSIN</td>\n",
       "      <td>WI</td>\n",
       "      <td>55</td>\n",
       "      <td>35</td>\n",
       "      <td>25</td>\n",
       "      <td>US PRESIDENT</td>\n",
       "      <td>BLANKENSHIP, DON</td>\n",
       "      <td>CONSTITUTION PARTY</td>\n",
       "      <td>False</td>\n",
       "      <td>5146</td>\n",
       "      <td>3298041</td>\n",
       "      <td>20210113</td>\n",
       "      <td>NaN</td>\n",
       "      <td>OTHER</td>\n",
       "    </tr>\n",
       "    <tr>\n",
       "      <th>4270</th>\n",
       "      <td>2020</td>\n",
       "      <td>WISCONSIN</td>\n",
       "      <td>WI</td>\n",
       "      <td>55</td>\n",
       "      <td>35</td>\n",
       "      <td>25</td>\n",
       "      <td>US PRESIDENT</td>\n",
       "      <td>JORGENSEN, JO</td>\n",
       "      <td>INDEPENDENT</td>\n",
       "      <td>False</td>\n",
       "      <td>38491</td>\n",
       "      <td>3298041</td>\n",
       "      <td>20210113</td>\n",
       "      <td>NaN</td>\n",
       "      <td>OTHER</td>\n",
       "    </tr>\n",
       "    <tr>\n",
       "      <th>4271</th>\n",
       "      <td>2020</td>\n",
       "      <td>WISCONSIN</td>\n",
       "      <td>WI</td>\n",
       "      <td>55</td>\n",
       "      <td>35</td>\n",
       "      <td>25</td>\n",
       "      <td>US PRESIDENT</td>\n",
       "      <td>CARROLL, BRIAN</td>\n",
       "      <td>AMERICAN SOLIDARITY PARTY</td>\n",
       "      <td>False</td>\n",
       "      <td>5259</td>\n",
       "      <td>3298041</td>\n",
       "      <td>20210113</td>\n",
       "      <td>NaN</td>\n",
       "      <td>OTHER</td>\n",
       "    </tr>\n",
       "    <tr>\n",
       "      <th>4272</th>\n",
       "      <td>2020</td>\n",
       "      <td>WISCONSIN</td>\n",
       "      <td>WI</td>\n",
       "      <td>55</td>\n",
       "      <td>35</td>\n",
       "      <td>25</td>\n",
       "      <td>US PRESIDENT</td>\n",
       "      <td>WELLS, KASEY</td>\n",
       "      <td>INDEPENDENT</td>\n",
       "      <td>True</td>\n",
       "      <td>25</td>\n",
       "      <td>3298041</td>\n",
       "      <td>20210113</td>\n",
       "      <td>NaN</td>\n",
       "      <td>OTHER</td>\n",
       "    </tr>\n",
       "    <tr>\n",
       "      <th>4273</th>\n",
       "      <td>2020</td>\n",
       "      <td>WISCONSIN</td>\n",
       "      <td>WI</td>\n",
       "      <td>55</td>\n",
       "      <td>35</td>\n",
       "      <td>25</td>\n",
       "      <td>US PRESIDENT</td>\n",
       "      <td>SIMMONS, JADE</td>\n",
       "      <td>BECOMING ONE NATION</td>\n",
       "      <td>True</td>\n",
       "      <td>36</td>\n",
       "      <td>3298041</td>\n",
       "      <td>20210113</td>\n",
       "      <td>NaN</td>\n",
       "      <td>OTHER</td>\n",
       "    </tr>\n",
       "    <tr>\n",
       "      <th>4274</th>\n",
       "      <td>2020</td>\n",
       "      <td>WISCONSIN</td>\n",
       "      <td>WI</td>\n",
       "      <td>55</td>\n",
       "      <td>35</td>\n",
       "      <td>25</td>\n",
       "      <td>US PRESIDENT</td>\n",
       "      <td>BODDIE, R. PRESIDENT</td>\n",
       "      <td>INDEPENDENT</td>\n",
       "      <td>True</td>\n",
       "      <td>5</td>\n",
       "      <td>3298041</td>\n",
       "      <td>20210113</td>\n",
       "      <td>NaN</td>\n",
       "      <td>OTHER</td>\n",
       "    </tr>\n",
       "    <tr>\n",
       "      <th>4275</th>\n",
       "      <td>2020</td>\n",
       "      <td>WISCONSIN</td>\n",
       "      <td>WI</td>\n",
       "      <td>55</td>\n",
       "      <td>35</td>\n",
       "      <td>25</td>\n",
       "      <td>US PRESIDENT</td>\n",
       "      <td>HAWKINS, HOWIE</td>\n",
       "      <td>GREEN</td>\n",
       "      <td>True</td>\n",
       "      <td>1089</td>\n",
       "      <td>3298041</td>\n",
       "      <td>20210113</td>\n",
       "      <td>NaN</td>\n",
       "      <td>OTHER</td>\n",
       "    </tr>\n",
       "    <tr>\n",
       "      <th>4276</th>\n",
       "      <td>2020</td>\n",
       "      <td>WISCONSIN</td>\n",
       "      <td>WI</td>\n",
       "      <td>55</td>\n",
       "      <td>35</td>\n",
       "      <td>25</td>\n",
       "      <td>US PRESIDENT</td>\n",
       "      <td>LA RIVA, GLORIA ESTELLA</td>\n",
       "      <td>PARTY FOR SOCIALISM AND LIBERATION</td>\n",
       "      <td>True</td>\n",
       "      <td>110</td>\n",
       "      <td>3298041</td>\n",
       "      <td>20210113</td>\n",
       "      <td>NaN</td>\n",
       "      <td>OTHER</td>\n",
       "    </tr>\n",
       "    <tr>\n",
       "      <th>4277</th>\n",
       "      <td>2020</td>\n",
       "      <td>WISCONSIN</td>\n",
       "      <td>WI</td>\n",
       "      <td>55</td>\n",
       "      <td>35</td>\n",
       "      <td>25</td>\n",
       "      <td>US PRESIDENT</td>\n",
       "      <td>WEST, KANYE</td>\n",
       "      <td>THE BIRTHDAY PARTY</td>\n",
       "      <td>True</td>\n",
       "      <td>411</td>\n",
       "      <td>3298041</td>\n",
       "      <td>20210113</td>\n",
       "      <td>NaN</td>\n",
       "      <td>OTHER</td>\n",
       "    </tr>\n",
       "    <tr>\n",
       "      <th>4278</th>\n",
       "      <td>2020</td>\n",
       "      <td>WISCONSIN</td>\n",
       "      <td>WI</td>\n",
       "      <td>55</td>\n",
       "      <td>35</td>\n",
       "      <td>25</td>\n",
       "      <td>US PRESIDENT</td>\n",
       "      <td>CHARLES, MARK</td>\n",
       "      <td>INDEPENDENT</td>\n",
       "      <td>True</td>\n",
       "      <td>52</td>\n",
       "      <td>3298041</td>\n",
       "      <td>20210113</td>\n",
       "      <td>NaN</td>\n",
       "      <td>OTHER</td>\n",
       "    </tr>\n",
       "    <tr>\n",
       "      <th>4279</th>\n",
       "      <td>2020</td>\n",
       "      <td>WISCONSIN</td>\n",
       "      <td>WI</td>\n",
       "      <td>55</td>\n",
       "      <td>35</td>\n",
       "      <td>25</td>\n",
       "      <td>US PRESIDENT</td>\n",
       "      <td>NaN</td>\n",
       "      <td>NaN</td>\n",
       "      <td>True</td>\n",
       "      <td>6367</td>\n",
       "      <td>3298041</td>\n",
       "      <td>20210113</td>\n",
       "      <td>NaN</td>\n",
       "      <td>OTHER</td>\n",
       "    </tr>\n",
       "    <tr>\n",
       "      <th>4280</th>\n",
       "      <td>2020</td>\n",
       "      <td>WYOMING</td>\n",
       "      <td>WY</td>\n",
       "      <td>56</td>\n",
       "      <td>83</td>\n",
       "      <td>68</td>\n",
       "      <td>US PRESIDENT</td>\n",
       "      <td>BIDEN, JOSEPH R. JR</td>\n",
       "      <td>DEMOCRAT</td>\n",
       "      <td>False</td>\n",
       "      <td>73491</td>\n",
       "      <td>278503</td>\n",
       "      <td>20210113</td>\n",
       "      <td>NaN</td>\n",
       "      <td>DEMOCRAT</td>\n",
       "    </tr>\n",
       "    <tr>\n",
       "      <th>4281</th>\n",
       "      <td>2020</td>\n",
       "      <td>WYOMING</td>\n",
       "      <td>WY</td>\n",
       "      <td>56</td>\n",
       "      <td>83</td>\n",
       "      <td>68</td>\n",
       "      <td>US PRESIDENT</td>\n",
       "      <td>TRUMP, DONALD J.</td>\n",
       "      <td>REPUBLICAN</td>\n",
       "      <td>False</td>\n",
       "      <td>193559</td>\n",
       "      <td>278503</td>\n",
       "      <td>20210113</td>\n",
       "      <td>NaN</td>\n",
       "      <td>REPUBLICAN</td>\n",
       "    </tr>\n",
       "    <tr>\n",
       "      <th>4282</th>\n",
       "      <td>2020</td>\n",
       "      <td>WYOMING</td>\n",
       "      <td>WY</td>\n",
       "      <td>56</td>\n",
       "      <td>83</td>\n",
       "      <td>68</td>\n",
       "      <td>US PRESIDENT</td>\n",
       "      <td>JORGENSEN, JO</td>\n",
       "      <td>LIBERTARIAN</td>\n",
       "      <td>False</td>\n",
       "      <td>5768</td>\n",
       "      <td>278503</td>\n",
       "      <td>20210113</td>\n",
       "      <td>NaN</td>\n",
       "      <td>LIBERTARIAN</td>\n",
       "    </tr>\n",
       "    <tr>\n",
       "      <th>4283</th>\n",
       "      <td>2020</td>\n",
       "      <td>WYOMING</td>\n",
       "      <td>WY</td>\n",
       "      <td>56</td>\n",
       "      <td>83</td>\n",
       "      <td>68</td>\n",
       "      <td>US PRESIDENT</td>\n",
       "      <td>PIERCE, BROCK</td>\n",
       "      <td>INDEPENDENT</td>\n",
       "      <td>False</td>\n",
       "      <td>2208</td>\n",
       "      <td>278503</td>\n",
       "      <td>20210113</td>\n",
       "      <td>NaN</td>\n",
       "      <td>OTHER</td>\n",
       "    </tr>\n",
       "    <tr>\n",
       "      <th>4284</th>\n",
       "      <td>2020</td>\n",
       "      <td>WYOMING</td>\n",
       "      <td>WY</td>\n",
       "      <td>56</td>\n",
       "      <td>83</td>\n",
       "      <td>68</td>\n",
       "      <td>US PRESIDENT</td>\n",
       "      <td>NaN</td>\n",
       "      <td>NaN</td>\n",
       "      <td>True</td>\n",
       "      <td>1739</td>\n",
       "      <td>278503</td>\n",
       "      <td>20210113</td>\n",
       "      <td>NaN</td>\n",
       "      <td>OTHER</td>\n",
       "    </tr>\n",
       "    <tr>\n",
       "      <th>4285</th>\n",
       "      <td>2020</td>\n",
       "      <td>WYOMING</td>\n",
       "      <td>WY</td>\n",
       "      <td>56</td>\n",
       "      <td>83</td>\n",
       "      <td>68</td>\n",
       "      <td>US PRESIDENT</td>\n",
       "      <td>OVERVOTES</td>\n",
       "      <td>NaN</td>\n",
       "      <td>False</td>\n",
       "      <td>279</td>\n",
       "      <td>278503</td>\n",
       "      <td>20210113</td>\n",
       "      <td>NaN</td>\n",
       "      <td>OTHER</td>\n",
       "    </tr>\n",
       "    <tr>\n",
       "      <th>4286</th>\n",
       "      <td>2020</td>\n",
       "      <td>WYOMING</td>\n",
       "      <td>WY</td>\n",
       "      <td>56</td>\n",
       "      <td>83</td>\n",
       "      <td>68</td>\n",
       "      <td>US PRESIDENT</td>\n",
       "      <td>UNDERVOTES</td>\n",
       "      <td>NaN</td>\n",
       "      <td>False</td>\n",
       "      <td>1459</td>\n",
       "      <td>278503</td>\n",
       "      <td>20210113</td>\n",
       "      <td>NaN</td>\n",
       "      <td>OTHER</td>\n",
       "    </tr>\n",
       "  </tbody>\n",
       "</table>\n",
       "</div>"
      ],
      "text/plain": [
       "      year      state state_po  state_fips  state_cen  state_ic        office  \\\n",
       "4267  2020  WISCONSIN       WI          55         35        25  US PRESIDENT   \n",
       "4268  2020  WISCONSIN       WI          55         35        25  US PRESIDENT   \n",
       "4269  2020  WISCONSIN       WI          55         35        25  US PRESIDENT   \n",
       "4270  2020  WISCONSIN       WI          55         35        25  US PRESIDENT   \n",
       "4271  2020  WISCONSIN       WI          55         35        25  US PRESIDENT   \n",
       "4272  2020  WISCONSIN       WI          55         35        25  US PRESIDENT   \n",
       "4273  2020  WISCONSIN       WI          55         35        25  US PRESIDENT   \n",
       "4274  2020  WISCONSIN       WI          55         35        25  US PRESIDENT   \n",
       "4275  2020  WISCONSIN       WI          55         35        25  US PRESIDENT   \n",
       "4276  2020  WISCONSIN       WI          55         35        25  US PRESIDENT   \n",
       "4277  2020  WISCONSIN       WI          55         35        25  US PRESIDENT   \n",
       "4278  2020  WISCONSIN       WI          55         35        25  US PRESIDENT   \n",
       "4279  2020  WISCONSIN       WI          55         35        25  US PRESIDENT   \n",
       "4280  2020    WYOMING       WY          56         83        68  US PRESIDENT   \n",
       "4281  2020    WYOMING       WY          56         83        68  US PRESIDENT   \n",
       "4282  2020    WYOMING       WY          56         83        68  US PRESIDENT   \n",
       "4283  2020    WYOMING       WY          56         83        68  US PRESIDENT   \n",
       "4284  2020    WYOMING       WY          56         83        68  US PRESIDENT   \n",
       "4285  2020    WYOMING       WY          56         83        68  US PRESIDENT   \n",
       "4286  2020    WYOMING       WY          56         83        68  US PRESIDENT   \n",
       "\n",
       "                    candidate                      party_detailed writein  \\\n",
       "4267      BIDEN, JOSEPH R. JR                            DEMOCRAT   False   \n",
       "4268         TRUMP, DONALD J.                          REPUBLICAN   False   \n",
       "4269         BLANKENSHIP, DON                  CONSTITUTION PARTY   False   \n",
       "4270            JORGENSEN, JO                         INDEPENDENT   False   \n",
       "4271           CARROLL, BRIAN           AMERICAN SOLIDARITY PARTY   False   \n",
       "4272             WELLS, KASEY                         INDEPENDENT    True   \n",
       "4273            SIMMONS, JADE                 BECOMING ONE NATION    True   \n",
       "4274     BODDIE, R. PRESIDENT                         INDEPENDENT    True   \n",
       "4275           HAWKINS, HOWIE                               GREEN    True   \n",
       "4276  LA RIVA, GLORIA ESTELLA  PARTY FOR SOCIALISM AND LIBERATION    True   \n",
       "4277              WEST, KANYE                  THE BIRTHDAY PARTY    True   \n",
       "4278            CHARLES, MARK                         INDEPENDENT    True   \n",
       "4279                      NaN                                 NaN    True   \n",
       "4280      BIDEN, JOSEPH R. JR                            DEMOCRAT   False   \n",
       "4281         TRUMP, DONALD J.                          REPUBLICAN   False   \n",
       "4282            JORGENSEN, JO                         LIBERTARIAN   False   \n",
       "4283            PIERCE, BROCK                         INDEPENDENT   False   \n",
       "4284                      NaN                                 NaN    True   \n",
       "4285                OVERVOTES                                 NaN   False   \n",
       "4286               UNDERVOTES                                 NaN   False   \n",
       "\n",
       "      candidatevotes  totalvotes   version  notes party_simplified  \n",
       "4267         1630866     3298041  20210113    NaN         DEMOCRAT  \n",
       "4268         1610184     3298041  20210113    NaN       REPUBLICAN  \n",
       "4269            5146     3298041  20210113    NaN            OTHER  \n",
       "4270           38491     3298041  20210113    NaN            OTHER  \n",
       "4271            5259     3298041  20210113    NaN            OTHER  \n",
       "4272              25     3298041  20210113    NaN            OTHER  \n",
       "4273              36     3298041  20210113    NaN            OTHER  \n",
       "4274               5     3298041  20210113    NaN            OTHER  \n",
       "4275            1089     3298041  20210113    NaN            OTHER  \n",
       "4276             110     3298041  20210113    NaN            OTHER  \n",
       "4277             411     3298041  20210113    NaN            OTHER  \n",
       "4278              52     3298041  20210113    NaN            OTHER  \n",
       "4279            6367     3298041  20210113    NaN            OTHER  \n",
       "4280           73491      278503  20210113    NaN         DEMOCRAT  \n",
       "4281          193559      278503  20210113    NaN       REPUBLICAN  \n",
       "4282            5768      278503  20210113    NaN      LIBERTARIAN  \n",
       "4283            2208      278503  20210113    NaN            OTHER  \n",
       "4284            1739      278503  20210113    NaN            OTHER  \n",
       "4285             279      278503  20210113    NaN            OTHER  \n",
       "4286            1459      278503  20210113    NaN            OTHER  "
      ]
     },
     "execution_count": 42,
     "metadata": {},
     "output_type": "execute_result"
    }
   ],
   "source": [
    "election_df.sort_values(by='year')\n",
    "election_df.tail(20)"
   ]
  },
  {
   "cell_type": "code",
   "execution_count": 43,
   "metadata": {
    "scrolled": true
   },
   "outputs": [
    {
     "data": {
      "text/plain": [
       "<AxesSubplot:xlabel='year', ylabel='totalvotes'>"
      ]
     },
     "execution_count": 43,
     "metadata": {},
     "output_type": "execute_result"
    },
    {
     "data": {
      "image/png": "[encoded data removed]",
      "text/plain": [
       "<Figure size 648x360 with 1 Axes>"
      ]
     },
     "metadata": {
      "needs_background": "light"
     },
     "output_type": "display_data"
    }
   ],
   "source": [
    "\n",
    "election_df.plot.scatter(x=\"year\", y=\"totalvotes\", alpha=0.5)"
   ]
  },
  {
   "cell_type": "markdown",
   "metadata": {},
   "source": [
    "This particular scatter diagram shows the trend of total votes cast in each Presidential election.\n",
    "\n",
    "The plot shows us a steady increase in the total number of votes being cast each election.\n",
    "\n",
    "The highest being in 2020 and the lowest in 1980"
   ]
  },
  {
   "cell_type": "code",
   "execution_count": 44,
   "metadata": {},
   "outputs": [
    {
     "data": {
      "text/plain": [
       "Index(['year', 'state', 'state_po', 'state_fips', 'state_cen', 'state_ic',\n",
       "       'office', 'candidate', 'party_detailed', 'writein', 'candidatevotes',\n",
       "       'totalvotes', 'version', 'notes', 'party_simplified'],\n",
       "      dtype='object')"
      ]
     },
     "execution_count": 44,
     "metadata": {},
     "output_type": "execute_result"
    }
   ],
   "source": [
    "election_df.columns"
   ]
  },
  {
   "cell_type": "code",
   "execution_count": 45,
   "metadata": {
    "scrolled": true
   },
   "outputs": [
    {
     "data": {
      "text/plain": [
       "<AxesSubplot:xlabel='year', ylabel='candidatevotes'>"
      ]
     },
     "execution_count": 45,
     "metadata": {},
     "output_type": "execute_result"
    },
    {
     "data": {
      "image/png": "[encoded data removed]",
      "text/plain": [
       "<Figure size 648x360 with 1 Axes>"
      ]
     },
     "metadata": {
      "needs_background": "light"
     },
     "output_type": "display_data"
    }
   ],
   "source": [
    "election_df.plot.scatter(x=\"year\", y=\"candidatevotes\", alpha=0.5)"
   ]
  },
  {
   "cell_type": "markdown",
   "metadata": {},
   "source": [
    "As the second scatter diagram may suggest, the votes received by the candidates reflect the total votes cast to all candidates combined."
   ]
  },
  {
   "cell_type": "markdown",
   "metadata": {},
   "source": [
    "### Now, Our next step would be to draw a graph representing the votes collected by winning presidents in each election."
   ]
  },
  {
   "cell_type": "code",
   "execution_count": 46,
   "metadata": {},
   "outputs": [
    {
     "data": {
      "text/plain": [
       "[<matplotlib.lines.Line2D at 0x7f83229a0e20>]"
      ]
     },
     "execution_count": 46,
     "metadata": {},
     "output_type": "execute_result"
    },
    {
     "data": {
      "image/png": "[encoded data removed]",
      "text/plain": [
       "<Figure size 648x360 with 1 Axes>"
      ]
     },
     "metadata": {
      "needs_background": "light"
     },
     "output_type": "display_data"
    }
   ],
   "source": [
    "plt.title(\"Winning votes\")\n",
    "plt.xlabel(\"Year\")\n",
    "plt.ylabel(\"Votes\")\n",
    "plt.plot(election_df.year,election_df.candidatevotes)\n"
   ]
  },
  {
   "cell_type": "markdown",
   "metadata": {},
   "source": [
    "Pay attention to how we have not had to find the winning candidate for every election,\n",
    "Since all the candidate votes would overlap on the given year, \n",
    "The actual size seen is of the winning candidate(longest)."
   ]
  },
  {
   "cell_type": "markdown",
   "metadata": {},
   "source": [
    "### Checking Party-wise Statistics\n",
    "\n",
    "We have now successfully extracted a list containing the list of total candidates fielded by each party.\n",
    "The command shows only the top 10 candidates in the list."
   ]
  },
  {
   "cell_type": "code",
   "execution_count": 135,
   "metadata": {},
   "outputs": [
    {
     "data": {
      "text/plain": [
       "party_simplified\n",
       "DEMOCRAT      6\n",
       "REPUBLICAN    4\n",
       "dtype: int64"
      ]
     },
     "execution_count": 135,
     "metadata": {},
     "output_type": "execute_result"
    }
   ],
   "source": [
    "occur = election_df.groupby(['party_simplified']).size()\n",
    "occur\n"
   ]
  },
  {
   "cell_type": "code",
   "execution_count": 136,
   "metadata": {},
   "outputs": [],
   "source": [
    "import jovian"
   ]
  },
  {
   "cell_type": "code",
   "execution_count": 137,
   "metadata": {
    "scrolled": true
   },
   "outputs": [
    {
     "data": {
      "application/javascript": [
       "window.require && require([\"base/js/namespace\"],function(Jupyter){Jupyter.notebook.save_checkpoint()})"
      ],
      "text/plain": [
       "<IPython.core.display.Javascript object>"
      ]
     },
     "metadata": {},
     "output_type": "display_data"
    },
    {
     "name": "stdout",
     "output_type": "stream",
     "text": [
      "[jovian] Updating notebook \"pana1v/zerotopandas-course-project-starter\" on https://jovian.ai\u001b[0m\n",
      "[jovian] Committed successfully! https://jovian.ai/pana1v/zerotopandas-course-project-starter\u001b[0m\n"
     ]
    },
    {
     "data": {
      "text/plain": [
       "'https://jovian.ai/pana1v/zerotopandas-course-project-starter'"
      ]
     },
     "execution_count": 137,
     "metadata": {},
     "output_type": "execute_result"
    }
   ],
   "source": [
    "jovian.commit()"
   ]
  },
  {
   "cell_type": "markdown",
   "metadata": {},
   "source": [
    "## Asking and Answering Questions\n",
    "\n",
    "Now we shall try some basic functions furnished by the Pandas Library."
   ]
  },
  {
   "cell_type": "markdown",
   "metadata": {},
   "source": [
    "#### Q1: How do you print the first n entries"
   ]
  },
  {
   "cell_type": "code",
   "execution_count": 138,
   "metadata": {},
   "outputs": [],
   "source": [
    "head_df=election_df.head(6)"
   ]
  },
  {
   "cell_type": "code",
   "execution_count": 139,
   "metadata": {},
   "outputs": [
    {
     "data": {
      "text/html": [
       "<div>\n",
       "<style scoped>\n",
       "    .dataframe tbody tr th:only-of-type {\n",
       "        vertical-align: middle;\n",
       "    }\n",
       "\n",
       "    .dataframe tbody tr th {\n",
       "        vertical-align: top;\n",
       "    }\n",
       "\n",
       "    .dataframe thead th {\n",
       "        text-align: right;\n",
       "    }\n",
       "</style>\n",
       "<table border=\"1\" class=\"dataframe\">\n",
       "  <thead>\n",
       "    <tr style=\"text-align: right;\">\n",
       "      <th></th>\n",
       "      <th>year</th>\n",
       "      <th>state</th>\n",
       "      <th>state_po</th>\n",
       "      <th>state_fips</th>\n",
       "      <th>state_cen</th>\n",
       "      <th>state_ic</th>\n",
       "      <th>office</th>\n",
       "      <th>candidate</th>\n",
       "      <th>party_detailed</th>\n",
       "      <th>writein</th>\n",
       "      <th>candidatevotes</th>\n",
       "      <th>totalvotes</th>\n",
       "      <th>version</th>\n",
       "      <th>notes</th>\n",
       "      <th>party_simplified</th>\n",
       "    </tr>\n",
       "  </thead>\n",
       "  <tbody>\n",
       "    <tr>\n",
       "      <th>3773</th>\n",
       "      <td>2020</td>\n",
       "      <td>CALIFORNIA</td>\n",
       "      <td>CA</td>\n",
       "      <td>6</td>\n",
       "      <td>93</td>\n",
       "      <td>71</td>\n",
       "      <td>US PRESIDENT</td>\n",
       "      <td>BIDEN, JOSEPH R. JR</td>\n",
       "      <td>DEMOCRAT</td>\n",
       "      <td>False</td>\n",
       "      <td>11110250</td>\n",
       "      <td>17500881</td>\n",
       "      <td>20210113</td>\n",
       "      <td>NaN</td>\n",
       "      <td>DEMOCRAT</td>\n",
       "    </tr>\n",
       "    <tr>\n",
       "      <th>3425</th>\n",
       "      <td>2016</td>\n",
       "      <td>CALIFORNIA</td>\n",
       "      <td>CA</td>\n",
       "      <td>6</td>\n",
       "      <td>93</td>\n",
       "      <td>71</td>\n",
       "      <td>US PRESIDENT</td>\n",
       "      <td>CLINTON, HILLARY</td>\n",
       "      <td>DEMOCRAT</td>\n",
       "      <td>False</td>\n",
       "      <td>8753788</td>\n",
       "      <td>14181595</td>\n",
       "      <td>20210113</td>\n",
       "      <td>NaN</td>\n",
       "      <td>DEMOCRAT</td>\n",
       "    </tr>\n",
       "    <tr>\n",
       "      <th>2751</th>\n",
       "      <td>2008</td>\n",
       "      <td>CALIFORNIA</td>\n",
       "      <td>CA</td>\n",
       "      <td>6</td>\n",
       "      <td>93</td>\n",
       "      <td>71</td>\n",
       "      <td>US PRESIDENT</td>\n",
       "      <td>OBAMA, BARACK H.</td>\n",
       "      <td>DEMOCRAT</td>\n",
       "      <td>False</td>\n",
       "      <td>8274473</td>\n",
       "      <td>13561900</td>\n",
       "      <td>20210113</td>\n",
       "      <td>NaN</td>\n",
       "      <td>DEMOCRAT</td>\n",
       "    </tr>\n",
       "    <tr>\n",
       "      <th>3098</th>\n",
       "      <td>2012</td>\n",
       "      <td>CALIFORNIA</td>\n",
       "      <td>CA</td>\n",
       "      <td>6</td>\n",
       "      <td>93</td>\n",
       "      <td>71</td>\n",
       "      <td>US PRESIDENT</td>\n",
       "      <td>OBAMA, BARACK H.</td>\n",
       "      <td>DEMOCRAT</td>\n",
       "      <td>False</td>\n",
       "      <td>7854285</td>\n",
       "      <td>13038547</td>\n",
       "      <td>20210113</td>\n",
       "      <td>NaN</td>\n",
       "      <td>DEMOCRAT</td>\n",
       "    </tr>\n",
       "    <tr>\n",
       "      <th>2432</th>\n",
       "      <td>2004</td>\n",
       "      <td>CALIFORNIA</td>\n",
       "      <td>CA</td>\n",
       "      <td>6</td>\n",
       "      <td>93</td>\n",
       "      <td>71</td>\n",
       "      <td>US PRESIDENT</td>\n",
       "      <td>KERRY, JOHN</td>\n",
       "      <td>DEMOCRAT</td>\n",
       "      <td>False</td>\n",
       "      <td>6745485</td>\n",
       "      <td>12421353</td>\n",
       "      <td>20210113</td>\n",
       "      <td>NaN</td>\n",
       "      <td>DEMOCRAT</td>\n",
       "    </tr>\n",
       "    <tr>\n",
       "      <th>3774</th>\n",
       "      <td>2020</td>\n",
       "      <td>CALIFORNIA</td>\n",
       "      <td>CA</td>\n",
       "      <td>6</td>\n",
       "      <td>93</td>\n",
       "      <td>71</td>\n",
       "      <td>US PRESIDENT</td>\n",
       "      <td>TRUMP, DONALD J.</td>\n",
       "      <td>REPUBLICAN</td>\n",
       "      <td>False</td>\n",
       "      <td>6006429</td>\n",
       "      <td>17500881</td>\n",
       "      <td>20210113</td>\n",
       "      <td>NaN</td>\n",
       "      <td>REPUBLICAN</td>\n",
       "    </tr>\n",
       "  </tbody>\n",
       "</table>\n",
       "</div>"
      ],
      "text/plain": [
       "      year       state state_po  state_fips  state_cen  state_ic  \\\n",
       "3773  2020  CALIFORNIA       CA           6         93        71   \n",
       "3425  2016  CALIFORNIA       CA           6         93        71   \n",
       "2751  2008  CALIFORNIA       CA           6         93        71   \n",
       "3098  2012  CALIFORNIA       CA           6         93        71   \n",
       "2432  2004  CALIFORNIA       CA           6         93        71   \n",
       "3774  2020  CALIFORNIA       CA           6         93        71   \n",
       "\n",
       "            office            candidate party_detailed writein  \\\n",
       "3773  US PRESIDENT  BIDEN, JOSEPH R. JR       DEMOCRAT   False   \n",
       "3425  US PRESIDENT     CLINTON, HILLARY       DEMOCRAT   False   \n",
       "2751  US PRESIDENT     OBAMA, BARACK H.       DEMOCRAT   False   \n",
       "3098  US PRESIDENT     OBAMA, BARACK H.       DEMOCRAT   False   \n",
       "2432  US PRESIDENT          KERRY, JOHN       DEMOCRAT   False   \n",
       "3774  US PRESIDENT     TRUMP, DONALD J.     REPUBLICAN   False   \n",
       "\n",
       "      candidatevotes  totalvotes   version  notes party_simplified  \n",
       "3773        11110250    17500881  20210113    NaN         DEMOCRAT  \n",
       "3425         8753788    14181595  20210113    NaN         DEMOCRAT  \n",
       "2751         8274473    13561900  20210113    NaN         DEMOCRAT  \n",
       "3098         7854285    13038547  20210113    NaN         DEMOCRAT  \n",
       "2432         6745485    12421353  20210113    NaN         DEMOCRAT  \n",
       "3774         6006429    17500881  20210113    NaN       REPUBLICAN  "
      ]
     },
     "execution_count": 139,
     "metadata": {},
     "output_type": "execute_result"
    }
   ],
   "source": [
    "head_df"
   ]
  },
  {
   "cell_type": "markdown",
   "metadata": {},
   "source": [
    "#### Q2: Create a series representing number of Candidates in total from each State"
   ]
  },
  {
   "cell_type": "code",
   "execution_count": 101,
   "metadata": {},
   "outputs": [
    {
     "data": {
      "text/html": [
       "<div>\n",
       "<style scoped>\n",
       "    .dataframe tbody tr th:only-of-type {\n",
       "        vertical-align: middle;\n",
       "    }\n",
       "\n",
       "    .dataframe tbody tr th {\n",
       "        vertical-align: top;\n",
       "    }\n",
       "\n",
       "    .dataframe thead th {\n",
       "        text-align: right;\n",
       "    }\n",
       "</style>\n",
       "<table border=\"1\" class=\"dataframe\">\n",
       "  <thead>\n",
       "    <tr style=\"text-align: right;\">\n",
       "      <th></th>\n",
       "      <th>0</th>\n",
       "      <th>Native</th>\n",
       "    </tr>\n",
       "    <tr>\n",
       "      <th>state</th>\n",
       "      <th></th>\n",
       "      <th></th>\n",
       "    </tr>\n",
       "  </thead>\n",
       "  <tbody>\n",
       "    <tr>\n",
       "      <th>ALABAMA</th>\n",
       "      <td>67</td>\n",
       "      <td>67</td>\n",
       "    </tr>\n",
       "    <tr>\n",
       "      <th>ALASKA</th>\n",
       "      <td>78</td>\n",
       "      <td>78</td>\n",
       "    </tr>\n",
       "    <tr>\n",
       "      <th>ARIZONA</th>\n",
       "      <td>79</td>\n",
       "      <td>79</td>\n",
       "    </tr>\n",
       "    <tr>\n",
       "      <th>ARKANSAS</th>\n",
       "      <td>90</td>\n",
       "      <td>90</td>\n",
       "    </tr>\n",
       "    <tr>\n",
       "      <th>CALIFORNIA</th>\n",
       "      <td>85</td>\n",
       "      <td>85</td>\n",
       "    </tr>\n",
       "    <tr>\n",
       "      <th>COLORADO</th>\n",
       "      <td>149</td>\n",
       "      <td>149</td>\n",
       "    </tr>\n",
       "    <tr>\n",
       "      <th>CONNECTICUT</th>\n",
       "      <td>76</td>\n",
       "      <td>76</td>\n",
       "    </tr>\n",
       "    <tr>\n",
       "      <th>DELAWARE</th>\n",
       "      <td>83</td>\n",
       "      <td>83</td>\n",
       "    </tr>\n",
       "    <tr>\n",
       "      <th>DISTRICT OF COLUMBIA</th>\n",
       "      <td>87</td>\n",
       "      <td>87</td>\n",
       "    </tr>\n",
       "    <tr>\n",
       "      <th>FLORIDA</th>\n",
       "      <td>94</td>\n",
       "      <td>94</td>\n",
       "    </tr>\n",
       "    <tr>\n",
       "      <th>GEORGIA</th>\n",
       "      <td>62</td>\n",
       "      <td>62</td>\n",
       "    </tr>\n",
       "    <tr>\n",
       "      <th>HAWAII</th>\n",
       "      <td>73</td>\n",
       "      <td>73</td>\n",
       "    </tr>\n",
       "    <tr>\n",
       "      <th>IDAHO</th>\n",
       "      <td>72</td>\n",
       "      <td>72</td>\n",
       "    </tr>\n",
       "    <tr>\n",
       "      <th>ILLINOIS</th>\n",
       "      <td>97</td>\n",
       "      <td>97</td>\n",
       "    </tr>\n",
       "    <tr>\n",
       "      <th>INDIANA</th>\n",
       "      <td>70</td>\n",
       "      <td>70</td>\n",
       "    </tr>\n",
       "    <tr>\n",
       "      <th>IOWA</th>\n",
       "      <td>124</td>\n",
       "      <td>124</td>\n",
       "    </tr>\n",
       "    <tr>\n",
       "      <th>KANSAS</th>\n",
       "      <td>65</td>\n",
       "      <td>65</td>\n",
       "    </tr>\n",
       "    <tr>\n",
       "      <th>KENTUCKY</th>\n",
       "      <td>94</td>\n",
       "      <td>94</td>\n",
       "    </tr>\n",
       "    <tr>\n",
       "      <th>LOUISIANA</th>\n",
       "      <td>102</td>\n",
       "      <td>102</td>\n",
       "    </tr>\n",
       "    <tr>\n",
       "      <th>MAINE</th>\n",
       "      <td>74</td>\n",
       "      <td>74</td>\n",
       "    </tr>\n",
       "    <tr>\n",
       "      <th>MARYLAND</th>\n",
       "      <td>92</td>\n",
       "      <td>92</td>\n",
       "    </tr>\n",
       "    <tr>\n",
       "      <th>MASSACHUSETTS</th>\n",
       "      <td>86</td>\n",
       "      <td>86</td>\n",
       "    </tr>\n",
       "    <tr>\n",
       "      <th>MICHIGAN</th>\n",
       "      <td>91</td>\n",
       "      <td>91</td>\n",
       "    </tr>\n",
       "    <tr>\n",
       "      <th>MINNESOTA</th>\n",
       "      <td>128</td>\n",
       "      <td>128</td>\n",
       "    </tr>\n",
       "    <tr>\n",
       "      <th>MISSISSIPPI</th>\n",
       "      <td>80</td>\n",
       "      <td>80</td>\n",
       "    </tr>\n",
       "    <tr>\n",
       "      <th>MISSOURI</th>\n",
       "      <td>64</td>\n",
       "      <td>64</td>\n",
       "    </tr>\n",
       "    <tr>\n",
       "      <th>MONTANA</th>\n",
       "      <td>58</td>\n",
       "      <td>58</td>\n",
       "    </tr>\n",
       "    <tr>\n",
       "      <th>NEBRASKA</th>\n",
       "      <td>63</td>\n",
       "      <td>63</td>\n",
       "    </tr>\n",
       "    <tr>\n",
       "      <th>NEVADA</th>\n",
       "      <td>73</td>\n",
       "      <td>73</td>\n",
       "    </tr>\n",
       "    <tr>\n",
       "      <th>NEW HAMPSHIRE</th>\n",
       "      <td>90</td>\n",
       "      <td>90</td>\n",
       "    </tr>\n",
       "    <tr>\n",
       "      <th>NEW JERSEY</th>\n",
       "      <td>104</td>\n",
       "      <td>104</td>\n",
       "    </tr>\n",
       "    <tr>\n",
       "      <th>NEW MEXICO</th>\n",
       "      <td>85</td>\n",
       "      <td>85</td>\n",
       "    </tr>\n",
       "    <tr>\n",
       "      <th>NEW YORK</th>\n",
       "      <td>145</td>\n",
       "      <td>145</td>\n",
       "    </tr>\n",
       "    <tr>\n",
       "      <th>NORTH CAROLINA</th>\n",
       "      <td>62</td>\n",
       "      <td>62</td>\n",
       "    </tr>\n",
       "    <tr>\n",
       "      <th>NORTH DAKOTA</th>\n",
       "      <td>80</td>\n",
       "      <td>80</td>\n",
       "    </tr>\n",
       "    <tr>\n",
       "      <th>OHIO</th>\n",
       "      <td>89</td>\n",
       "      <td>89</td>\n",
       "    </tr>\n",
       "    <tr>\n",
       "      <th>OKLAHOMA</th>\n",
       "      <td>41</td>\n",
       "      <td>41</td>\n",
       "    </tr>\n",
       "    <tr>\n",
       "      <th>OREGON</th>\n",
       "      <td>74</td>\n",
       "      <td>74</td>\n",
       "    </tr>\n",
       "    <tr>\n",
       "      <th>PENNSYLVANIA</th>\n",
       "      <td>70</td>\n",
       "      <td>70</td>\n",
       "    </tr>\n",
       "    <tr>\n",
       "      <th>RHODE ISLAND</th>\n",
       "      <td>95</td>\n",
       "      <td>95</td>\n",
       "    </tr>\n",
       "    <tr>\n",
       "      <th>SOUTH CAROLINA</th>\n",
       "      <td>69</td>\n",
       "      <td>69</td>\n",
       "    </tr>\n",
       "    <tr>\n",
       "      <th>SOUTH DAKOTA</th>\n",
       "      <td>52</td>\n",
       "      <td>52</td>\n",
       "    </tr>\n",
       "    <tr>\n",
       "      <th>TENNESSEE</th>\n",
       "      <td>78</td>\n",
       "      <td>78</td>\n",
       "    </tr>\n",
       "    <tr>\n",
       "      <th>TEXAS</th>\n",
       "      <td>70</td>\n",
       "      <td>70</td>\n",
       "    </tr>\n",
       "    <tr>\n",
       "      <th>UTAH</th>\n",
       "      <td>114</td>\n",
       "      <td>114</td>\n",
       "    </tr>\n",
       "    <tr>\n",
       "      <th>VERMONT</th>\n",
       "      <td>122</td>\n",
       "      <td>122</td>\n",
       "    </tr>\n",
       "    <tr>\n",
       "      <th>VIRGINIA</th>\n",
       "      <td>66</td>\n",
       "      <td>66</td>\n",
       "    </tr>\n",
       "    <tr>\n",
       "      <th>WASHINGTON</th>\n",
       "      <td>106</td>\n",
       "      <td>106</td>\n",
       "    </tr>\n",
       "    <tr>\n",
       "      <th>WEST VIRGINIA</th>\n",
       "      <td>54</td>\n",
       "      <td>54</td>\n",
       "    </tr>\n",
       "    <tr>\n",
       "      <th>WISCONSIN</th>\n",
       "      <td>101</td>\n",
       "      <td>101</td>\n",
       "    </tr>\n",
       "    <tr>\n",
       "      <th>WYOMING</th>\n",
       "      <td>64</td>\n",
       "      <td>64</td>\n",
       "    </tr>\n",
       "  </tbody>\n",
       "</table>\n",
       "</div>"
      ],
      "text/plain": [
       "                        0  Native\n",
       "state                            \n",
       "ALABAMA                67      67\n",
       "ALASKA                 78      78\n",
       "ARIZONA                79      79\n",
       "ARKANSAS               90      90\n",
       "CALIFORNIA             85      85\n",
       "COLORADO              149     149\n",
       "CONNECTICUT            76      76\n",
       "DELAWARE               83      83\n",
       "DISTRICT OF COLUMBIA   87      87\n",
       "FLORIDA                94      94\n",
       "GEORGIA                62      62\n",
       "HAWAII                 73      73\n",
       "IDAHO                  72      72\n",
       "ILLINOIS               97      97\n",
       "INDIANA                70      70\n",
       "IOWA                  124     124\n",
       "KANSAS                 65      65\n",
       "KENTUCKY               94      94\n",
       "LOUISIANA             102     102\n",
       "MAINE                  74      74\n",
       "MARYLAND               92      92\n",
       "MASSACHUSETTS          86      86\n",
       "MICHIGAN               91      91\n",
       "MINNESOTA             128     128\n",
       "MISSISSIPPI            80      80\n",
       "MISSOURI               64      64\n",
       "MONTANA                58      58\n",
       "NEBRASKA               63      63\n",
       "NEVADA                 73      73\n",
       "NEW HAMPSHIRE          90      90\n",
       "NEW JERSEY            104     104\n",
       "NEW MEXICO             85      85\n",
       "NEW YORK              145     145\n",
       "NORTH CAROLINA         62      62\n",
       "NORTH DAKOTA           80      80\n",
       "OHIO                   89      89\n",
       "OKLAHOMA               41      41\n",
       "OREGON                 74      74\n",
       "PENNSYLVANIA           70      70\n",
       "RHODE ISLAND           95      95\n",
       "SOUTH CAROLINA         69      69\n",
       "SOUTH DAKOTA           52      52\n",
       "TENNESSEE              78      78\n",
       "TEXAS                  70      70\n",
       "UTAH                  114     114\n",
       "VERMONT               122     122\n",
       "VIRGINIA               66      66\n",
       "WASHINGTON            106     106\n",
       "WEST VIRGINIA          54      54\n",
       "WISCONSIN             101     101\n",
       "WYOMING                64      64"
      ]
     },
     "execution_count": 101,
     "metadata": {},
     "output_type": "execute_result"
    }
   ],
   "source": [
    "native = election_df.groupby(['state']).size()\n",
    "native\n",
    "state_df[\"Native\"]=native\n",
    "state_df\n"
   ]
  },
  {
   "cell_type": "markdown",
   "metadata": {},
   "source": [
    "We have created a data frame with the total Number of Candidates from every state using the groupby() function."
   ]
  },
  {
   "cell_type": "markdown",
   "metadata": {},
   "source": [
    "#### Q3: What is the total votes of all the candidates listed in this dataset?"
   ]
  },
  {
   "cell_type": "code",
   "execution_count": 114,
   "metadata": {},
   "outputs": [],
   "source": [
    "total_votes=election_df.totalvotes.sum()"
   ]
  },
  {
   "cell_type": "code",
   "execution_count": 115,
   "metadata": {},
   "outputs": [
    {
     "data": {
      "text/plain": [
       "10147003830"
      ]
     },
     "execution_count": 115,
     "metadata": {},
     "output_type": "execute_result"
    }
   ],
   "source": [
    "total_votes"
   ]
  },
  {
   "cell_type": "markdown",
   "metadata": {},
   "source": [
    "The total of any numeral based column can be computed by using the function sum()"
   ]
  },
  {
   "cell_type": "markdown",
   "metadata": {},
   "source": [
    "#### Q4: Show Most voted Presidents on a Timeline"
   ]
  },
  {
   "cell_type": "code",
   "execution_count": 161,
   "metadata": {},
   "outputs": [
    {
     "data": {
      "text/plain": [
       "[<matplotlib.lines.Line2D at 0x7f832231fe50>]"
      ]
     },
     "execution_count": 161,
     "metadata": {},
     "output_type": "execute_result"
    },
    {
     "data": {
      "image/png": "[encoded data removed]",
      "text/plain": [
       "<Figure size 864x144 with 1 Axes>"
      ]
     },
     "metadata": {
      "needs_background": "light"
     },
     "output_type": "display_data"
    }
   ],
   "source": [
    "pop_df = election_df.sort_values('year',ascending=False).tail(10)\n",
    "plt.figure(figsize=(12,2))\n",
    "\n",
    "plt.plot(election_df.year,election_df.candidate)\n"
   ]
  },
  {
   "cell_type": "markdown",
   "metadata": {},
   "source": [
    "This graph, though seeming complex represents three parameters, President, Popularity and Time"
   ]
  },
  {
   "cell_type": "markdown",
   "metadata": {},
   "source": [
    "#### Q5: Group all Top Voted Presidents in a Histogram"
   ]
  },
  {
   "cell_type": "code",
   "execution_count": 162,
   "metadata": {
    "scrolled": true
   },
   "outputs": [
    {
     "name": "stderr",
     "output_type": "stream",
     "text": [
      "/opt/conda/lib/python3.9/site-packages/seaborn/_decorators.py:36: FutureWarning: Pass the following variables as keyword args: x, y. From version 0.12, the only valid positional argument will be `data`, and passing other arguments without an explicit keyword will result in an error or misinterpretation.\n",
      "  warnings.warn(\n"
     ]
    },
    {
     "data": {
      "text/plain": [
       "<AxesSubplot:xlabel='candidatevotes', ylabel='candidate'>"
      ]
     },
     "execution_count": 162,
     "metadata": {},
     "output_type": "execute_result"
    },
    {
     "data": {
      "image/png": "[encoded data removed]",
      "text/plain": [
       "<Figure size 864x144 with 1 Axes>"
      ]
     },
     "metadata": {
      "needs_background": "light"
     },
     "output_type": "display_data"
    }
   ],
   "source": [
    "election_df = election_df.sort_values('candidatevotes',ascending=False).head(10)\n",
    "plt.figure(figsize=(12,2))\n",
    "sns.barplot( election_df.candidatevotes.head(10),election_df.candidate.head(10))"
   ]
  },
  {
   "cell_type": "raw",
   "metadata": {},
   "source": [
    "This section demonstrates the use of figsize function, It allows us to set a custom figure to the graph, But needs to be executed before the final plot function."
   ]
  },
  {
   "cell_type": "markdown",
   "metadata": {},
   "source": [
    "Let us save and upload our work to Jovian before continuing."
   ]
  },
  {
   "cell_type": "code",
   "execution_count": 163,
   "metadata": {},
   "outputs": [],
   "source": [
    "import jovian"
   ]
  },
  {
   "cell_type": "code",
   "execution_count": 164,
   "metadata": {},
   "outputs": [
    {
     "data": {
      "application/javascript": [
       "window.require && require([\"base/js/namespace\"],function(Jupyter){Jupyter.notebook.save_checkpoint()})"
      ],
      "text/plain": [
       "<IPython.core.display.Javascript object>"
      ]
     },
     "metadata": {},
     "output_type": "display_data"
    },
    {
     "name": "stdout",
     "output_type": "stream",
     "text": [
      "[jovian] Updating notebook \"pana1v/zerotopandas-course-project-starter\" on https://jovian.ai\u001b[0m\n",
      "[jovian] Committed successfully! https://jovian.ai/pana1v/zerotopandas-course-project-starter\u001b[0m\n"
     ]
    },
    {
     "data": {
      "text/plain": [
       "'https://jovian.ai/pana1v/zerotopandas-course-project-starter'"
      ]
     },
     "execution_count": 164,
     "metadata": {},
     "output_type": "execute_result"
    }
   ],
   "source": [
    "jovian.commit()"
   ]
  },
  {
   "cell_type": "markdown",
   "metadata": {},
   "source": [
    "## Inferences and Conclusion\n",
    "\n",
    "This project amply demonstrates the simplicity and usefulness of the Pandas Library in operating databases.\n",
    "The Pandas library accomplishes a lot of tasks which would require programmers to learn a different language such as SQL,\n",
    "The MatPotLib further enhances the potency of Panda as a data management utility."
   ]
  },
  {
   "cell_type": "code",
   "execution_count": 165,
   "metadata": {},
   "outputs": [],
   "source": [
    "import jovian"
   ]
  },
  {
   "cell_type": "code",
   "execution_count": 166,
   "metadata": {},
   "outputs": [
    {
     "data": {
      "application/javascript": [
       "window.require && require([\"base/js/namespace\"],function(Jupyter){Jupyter.notebook.save_checkpoint()})"
      ],
      "text/plain": [
       "<IPython.core.display.Javascript object>"
      ]
     },
     "metadata": {},
     "output_type": "display_data"
    },
    {
     "name": "stdout",
     "output_type": "stream",
     "text": [
      "[jovian] Updating notebook \"pana1v/zerotopandas-course-project-starter\" on https://jovian.ai\u001b[0m\n",
      "[jovian] Committed successfully! https://jovian.ai/pana1v/zerotopandas-course-project-starter\u001b[0m\n"
     ]
    },
    {
     "data": {
      "text/plain": [
       "'https://jovian.ai/pana1v/zerotopandas-course-project-starter'"
      ]
     },
     "execution_count": 166,
     "metadata": {},
     "output_type": "execute_result"
    }
   ],
   "source": [
    "jovian.commit()"
   ]
  },
  {
   "cell_type": "markdown",
   "metadata": {},
   "source": [
    "## References and Future Work\n",
    "\n",
    "I'd set up on working on a database management system for online retail enterprises which would encompass automation of many tasks over different online retail outlets."
   ]
  },
  {
   "cell_type": "code",
   "execution_count": 167,
   "metadata": {},
   "outputs": [],
   "source": [
    "import jovian"
   ]
  },
  {
   "cell_type": "code",
   "execution_count": 168,
   "metadata": {
    "scrolled": false
   },
   "outputs": [
    {
     "data": {
      "application/javascript": [
       "window.require && require([\"base/js/namespace\"],function(Jupyter){Jupyter.notebook.save_checkpoint()})"
      ],
      "text/plain": [
       "<IPython.core.display.Javascript object>"
      ]
     },
     "metadata": {},
     "output_type": "display_data"
    },
    {
     "name": "stdout",
     "output_type": "stream",
     "text": [
      "[jovian] Updating notebook \"pana1v/zerotopandas-course-project-starter\" on https://jovian.ai\u001b[0m\n",
      "[jovian] Committed successfully! https://jovian.ai/pana1v/zerotopandas-course-project-starter\u001b[0m\n"
     ]
    },
    {
     "data": {
      "text/plain": [
       "'https://jovian.ai/pana1v/zerotopandas-course-project-starter'"
      ]
     },
     "execution_count": 168,
     "metadata": {},
     "output_type": "execute_result"
    }
   ],
   "source": [
    "jovian.commit()"
   ]
  }
 ],
 "metadata": {
  "kernelspec": {
   "display_name": "Python 3 (ipykernel)",
   "language": "python",
   "name": "python3"
  },
  "language_info": {
   "codemirror_mode": {
    "name": "ipython",
    "version": 3
   },
   "file_extension": ".py",
   "mimetype": "text/x-python",
   "name": "python",
   "nbconvert_exporter": "python",
   "pygments_lexer": "ipython3",
   "version": "3.9.6"
  }
 },
 "nbformat": 4,
 "nbformat_minor": 4
}
